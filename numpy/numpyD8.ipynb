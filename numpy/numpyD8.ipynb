{
 "cells": [
  {
   "cell_type": "code",
   "execution_count": 1,
   "id": "36efaf2c-eba4-47ef-a2b1-0dca3a500b76",
   "metadata": {},
   "outputs": [],
   "source": [
    "import numpy as np"
   ]
  },
  {
   "cell_type": "code",
   "execution_count": 3,
   "id": "5590758b-e321-4c58-9ee2-2743a201bfd7",
   "metadata": {},
   "outputs": [],
   "source": [
    "a=np.array([])\n",
    "b=np.array([1,2,55,23,5,21])\n",
    "c=np.array([[123,5536,32],[14,13,22]])"
   ]
  },
  {
   "cell_type": "code",
   "execution_count": 4,
   "id": "eebd89e5-62c3-4fd0-8f51-9187b08bc5b1",
   "metadata": {},
   "outputs": [
    {
     "data": {
      "text/plain": [
       "array([], dtype=float64)"
      ]
     },
     "execution_count": 4,
     "metadata": {},
     "output_type": "execute_result"
    }
   ],
   "source": [
    "a"
   ]
  },
  {
   "cell_type": "code",
   "execution_count": 7,
   "id": "2e5368ed-a810-4fde-bd3e-ba8f6e325c98",
   "metadata": {},
   "outputs": [
    {
     "data": {
      "text/plain": [
       "numpy.ndarray"
      ]
     },
     "execution_count": 7,
     "metadata": {},
     "output_type": "execute_result"
    }
   ],
   "source": [
    "type(a)"
   ]
  },
  {
   "cell_type": "code",
   "execution_count": 5,
   "id": "1882517e-eca3-4284-9477-235dff0aa9cd",
   "metadata": {},
   "outputs": [
    {
     "data": {
      "text/plain": [
       "array([ 1,  2, 55, 23,  5, 21])"
      ]
     },
     "execution_count": 5,
     "metadata": {},
     "output_type": "execute_result"
    }
   ],
   "source": [
    "b"
   ]
  },
  {
   "cell_type": "code",
   "execution_count": 8,
   "id": "17ceb6ab-477f-4db1-94c8-5eb2de36da53",
   "metadata": {},
   "outputs": [
    {
     "data": {
      "text/plain": [
       "numpy.ndarray"
      ]
     },
     "execution_count": 8,
     "metadata": {},
     "output_type": "execute_result"
    }
   ],
   "source": [
    "type(b)"
   ]
  },
  {
   "cell_type": "code",
   "execution_count": 12,
   "id": "21007792-62d2-4921-92f0-0fd57588e445",
   "metadata": {},
   "outputs": [
    {
     "data": {
      "text/plain": [
       "1"
      ]
     },
     "execution_count": 12,
     "metadata": {},
     "output_type": "execute_result"
    }
   ],
   "source": [
    "b.ndimc"
   ]
  },
  {
   "cell_type": "code",
   "execution_count": 15,
   "id": "880ff04a-5942-4e2d-b9fe-d6f9f0e179ac",
   "metadata": {},
   "outputs": [
    {
     "data": {
      "text/plain": [
       "6"
      ]
     },
     "execution_count": 15,
     "metadata": {},
     "output_type": "execute_result"
    }
   ],
   "source": [
    "b.size"
   ]
  },
  {
   "cell_type": "code",
   "execution_count": 6,
   "id": "282873ee-0786-4bf7-8910-1f5d5a809b09",
   "metadata": {},
   "outputs": [
    {
     "data": {
      "text/plain": [
       "array([[ 123, 5536,   32],\n",
       "       [  14,   13,   22]])"
      ]
     },
     "execution_count": 6,
     "metadata": {},
     "output_type": "execute_result"
    }
   ],
   "source": [
    "c"
   ]
  },
  {
   "cell_type": "code",
   "execution_count": 9,
   "id": "2a0d4b19-56fb-4cb0-b558-bd3df75be6a4",
   "metadata": {},
   "outputs": [
    {
     "data": {
      "text/plain": [
       "numpy.ndarray"
      ]
     },
     "execution_count": 9,
     "metadata": {},
     "output_type": "execute_result"
    }
   ],
   "source": [
    "type(c)"
   ]
  },
  {
   "cell_type": "code",
   "execution_count": 11,
   "id": "de117f8c-2738-4310-b39f-ad2608052289",
   "metadata": {},
   "outputs": [
    {
     "data": {
      "text/plain": [
       "2"
      ]
     },
     "execution_count": 11,
     "metadata": {},
     "output_type": "execute_result"
    }
   ],
   "source": [
    "c.ndim"
   ]
  },
  {
   "cell_type": "code",
   "execution_count": 13,
   "id": "610737b5-37c8-4503-a23c-a210f98635fc",
   "metadata": {},
   "outputs": [
    {
     "data": {
      "text/plain": [
       "6"
      ]
     },
     "execution_count": 13,
     "metadata": {},
     "output_type": "execute_result"
    }
   ],
   "source": [
    "c.size"
   ]
  },
  {
   "cell_type": "code",
   "execution_count": 2,
   "id": "7bbde89c-205f-41b0-bd8b-f5a73ffa3b56",
   "metadata": {},
   "outputs": [
    {
     "ename": "NameError",
     "evalue": "name 'np' is not defined",
     "output_type": "error",
     "traceback": [
      "\u001b[1;31m---------------------------------------------------------------------------\u001b[0m",
      "\u001b[1;31mNameError\u001b[0m                                 Traceback (most recent call last)",
      "Input \u001b[1;32mIn [2]\u001b[0m, in \u001b[0;36m<cell line: 1>\u001b[1;34m()\u001b[0m\n\u001b[1;32m----> 1\u001b[0m n\u001b[38;5;241m=\u001b[39m\u001b[43mnp\u001b[49m\u001b[38;5;241m.\u001b[39marray([[\u001b[38;5;241m2\u001b[39m,\u001b[38;5;241m4\u001b[39m,\u001b[38;5;241m6\u001b[39m,\u001b[38;5;241m2\u001b[39m],[\u001b[38;5;241m24\u001b[39m,\u001b[38;5;241m34\u001b[39m,\u001b[38;5;241m56\u001b[39m,\u001b[38;5;241m32\u001b[39m],[\u001b[38;5;241m100\u001b[39m,\u001b[38;5;241m400\u001b[39m,\u001b[38;5;241m500\u001b[39m,\u001b[38;5;241m700\u001b[39m]])\n",
      "\u001b[1;31mNameError\u001b[0m: name 'np' is not defined"
     ]
    }
   ],
   "source": [
    "n=np.array([[2,4,6,2],[24,34,56,32],[100,400,500,700]])"
   ]
  },
  {
   "cell_type": "code",
   "execution_count": 3,
   "id": "c420284e-1ec2-4d3c-b430-38275fd2954a",
   "metadata": {},
   "outputs": [],
   "source": [
    "import numpy as np "
   ]
  },
  {
   "cell_type": "code",
   "execution_count": 4,
   "id": "d2af0b78-f7c9-4ad8-b3ec-0128788d05e9",
   "metadata": {},
   "outputs": [],
   "source": [
    "n=np.array([[2,4,6,2],[24,34,56,32],[100,400,500,700]])"
   ]
  },
  {
   "cell_type": "code",
   "execution_count": 5,
   "id": "64660e68-284a-43f4-bc5d-e1ddc1e9d722",
   "metadata": {},
   "outputs": [
    {
     "data": {
      "text/plain": [
       "array([[  2,   4,   6,   2],\n",
       "       [ 24,  34,  56,  32],\n",
       "       [100, 400, 500, 700]])"
      ]
     },
     "execution_count": 5,
     "metadata": {},
     "output_type": "execute_result"
    }
   ],
   "source": [
    "n"
   ]
  },
  {
   "cell_type": "code",
   "execution_count": 6,
   "id": "6a87206f-f0bc-44e1-8ea7-0759e5300afc",
   "metadata": {},
   "outputs": [
    {
     "data": {
      "text/plain": [
       "2"
      ]
     },
     "execution_count": 6,
     "metadata": {},
     "output_type": "execute_result"
    }
   ],
   "source": [
    "n[0][0]"
   ]
  },
  {
   "cell_type": "code",
   "execution_count": 7,
   "id": "fb68b15a-0cbe-42f3-b078-5fd14b9eadc5",
   "metadata": {},
   "outputs": [
    {
     "data": {
      "text/plain": [
       "2"
      ]
     },
     "execution_count": 7,
     "metadata": {},
     "output_type": "execute_result"
    }
   ],
   "source": [
    "n[0,0]"
   ]
  },
  {
   "cell_type": "code",
   "execution_count": 8,
   "id": "61b4a670-7f95-4dcf-a7d8-3bdee71decc7",
   "metadata": {},
   "outputs": [
    {
     "data": {
      "text/plain": [
       "56"
      ]
     },
     "execution_count": 8,
     "metadata": {},
     "output_type": "execute_result"
    }
   ],
   "source": [
    "n[1,2]"
   ]
  },
  {
   "cell_type": "code",
   "execution_count": 9,
   "id": "8ad8243b-f6e8-4286-9759-b7c318674e63",
   "metadata": {},
   "outputs": [
    {
     "data": {
      "text/plain": [
       "array([100, 400])"
      ]
     },
     "execution_count": 9,
     "metadata": {},
     "output_type": "execute_result"
    }
   ],
   "source": [
    "n[2,[0,1]]"
   ]
  },
  {
   "cell_type": "code",
   "execution_count": 15,
   "id": "d717d680-b5e3-4d33-b246-366bc71104d9",
   "metadata": {},
   "outputs": [
    {
     "data": {
      "text/plain": [
       "array([400, 500])"
      ]
     },
     "execution_count": 15,
     "metadata": {},
     "output_type": "execute_result"
    }
   ],
   "source": [
    "n[2,1:3]"
   ]
  },
  {
   "cell_type": "code",
   "execution_count": 20,
   "id": "3086c57f-ba61-4fa0-a2f6-af1fe9fdac5f",
   "metadata": {},
   "outputs": [
    {
     "data": {
      "text/plain": [
       "array([[ 56,  32],\n",
       "       [500, 700]])"
      ]
     },
     "execution_count": 20,
     "metadata": {},
     "output_type": "execute_result"
    }
   ],
   "source": [
    "n[1:,2:]"
   ]
  },
  {
   "cell_type": "code",
   "execution_count": 21,
   "id": "a8d91b51-395a-4ddf-ac7c-586ee8163b34",
   "metadata": {},
   "outputs": [
    {
     "data": {
      "text/plain": [
       "array([[ 24,  34,  56,  32],\n",
       "       [100, 400, 500, 700]])"
      ]
     },
     "execution_count": 21,
     "metadata": {},
     "output_type": "execute_result"
    }
   ],
   "source": [
    "n[1:3]"
   ]
  },
  {
   "cell_type": "code",
   "execution_count": 22,
   "id": "41819132-69f8-4ceb-b7e2-952d1d3ff234",
   "metadata": {},
   "outputs": [
    {
     "data": {
      "text/plain": [
       "array([24, 34])"
      ]
     },
     "execution_count": 22,
     "metadata": {},
     "output_type": "execute_result"
    }
   ],
   "source": [
    "n[1,:2]"
   ]
  },
  {
   "cell_type": "code",
   "execution_count": 25,
   "id": "656aa51c-cb40-42ba-a723-fda84644cf4f",
   "metadata": {},
   "outputs": [
    {
     "data": {
      "text/plain": [
       "array([  2,  32, 700])"
      ]
     },
     "execution_count": 25,
     "metadata": {},
     "output_type": "execute_result"
    }
   ],
   "source": [
    "n[0:3,3]"
   ]
  },
  {
   "cell_type": "markdown",
   "id": "3dda3ab1-674c-4352-a4b5-1a6d6af24fb7",
   "metadata": {},
   "source": [
    "a range"
   ]
  },
  {
   "cell_type": "code",
   "execution_count": 26,
   "id": "3639f5d0-a947-4bdb-8885-49985ef7a458",
   "metadata": {
    "collapsed": true,
    "jupyter": {
     "outputs_hidden": true
    },
    "tags": []
   },
   "outputs": [
    {
     "data": {
      "text/plain": [
       "[5,\n",
       " 6,\n",
       " 7,\n",
       " 8,\n",
       " 9,\n",
       " 10,\n",
       " 11,\n",
       " 12,\n",
       " 13,\n",
       " 14,\n",
       " 15,\n",
       " 16,\n",
       " 17,\n",
       " 18,\n",
       " 19,\n",
       " 20,\n",
       " 21,\n",
       " 22,\n",
       " 23,\n",
       " 24,\n",
       " 25,\n",
       " 26,\n",
       " 27,\n",
       " 28,\n",
       " 29,\n",
       " 30,\n",
       " 31,\n",
       " 32,\n",
       " 33,\n",
       " 34,\n",
       " 35,\n",
       " 36,\n",
       " 37,\n",
       " 38,\n",
       " 39,\n",
       " 40,\n",
       " 41,\n",
       " 42,\n",
       " 43,\n",
       " 44,\n",
       " 45,\n",
       " 46,\n",
       " 47,\n",
       " 48,\n",
       " 49,\n",
       " 50]"
      ]
     },
     "execution_count": 26,
     "metadata": {},
     "output_type": "execute_result"
    }
   ],
   "source": [
    "list(range(5,51))"
   ]
  },
  {
   "cell_type": "code",
   "execution_count": 28,
   "id": "68e51df8-1897-4f7a-bfa9-5b09bf8342c7",
   "metadata": {},
   "outputs": [
    {
     "data": {
      "text/plain": [
       "array([ 5,  6,  7,  8,  9, 10, 11, 12, 13, 14, 15, 16, 17, 18, 19, 20, 21,\n",
       "       22, 23, 24, 25, 26, 27, 28, 29, 30, 31, 32, 33, 34, 35, 36, 37, 38,\n",
       "       39, 40, 41, 42, 43, 44, 45, 46, 47, 48, 49, 50])"
      ]
     },
     "execution_count": 28,
     "metadata": {},
     "output_type": "execute_result"
    }
   ],
   "source": [
    "np.arange(5,51)"
   ]
  },
  {
   "cell_type": "code",
   "execution_count": 29,
   "id": "1067d88d-c009-4897-b769-ddd341f889e0",
   "metadata": {},
   "outputs": [
    {
     "data": {
      "text/plain": [
       "array([ 5.5,  6.5,  7.5,  8.5,  9.5, 10.5, 11.5, 12.5, 13.5, 14.5, 15.5,\n",
       "       16.5, 17.5, 18.5, 19.5, 20.5, 21.5, 22.5, 23.5, 24.5, 25.5, 26.5,\n",
       "       27.5, 28.5, 29.5, 30.5, 31.5, 32.5, 33.5, 34.5, 35.5, 36.5, 37.5,\n",
       "       38.5, 39.5, 40.5, 41.5, 42.5, 43.5, 44.5, 45.5, 46.5, 47.5, 48.5,\n",
       "       49.5])"
      ]
     },
     "execution_count": 29,
     "metadata": {},
     "output_type": "execute_result"
    }
   ],
   "source": [
    "np.arange(5.5,50.3)"
   ]
  },
  {
   "cell_type": "markdown",
   "id": "121fda82-3717-4782-b09a-f1f497d95460",
   "metadata": {},
   "source": [
    "#Reshape"
   ]
  },
  {
   "cell_type": "markdown",
   "id": "efe3fb3a-2801-4335-a930-8deb1b038296",
   "metadata": {},
   "source": []
  },
  {
   "cell_type": "code",
   "execution_count": null,
   "id": "b21fba6e-a128-4f17-8535-c593d7a6db57",
   "metadata": {},
   "outputs": [],
   "source": []
  },
  {
   "cell_type": "code",
   "execution_count": 31,
   "id": "939cf596-1ef7-44e8-9daf-457fdd886701",
   "metadata": {},
   "outputs": [
    {
     "data": {
      "text/plain": [
       "9.0"
      ]
     },
     "execution_count": 31,
     "metadata": {},
     "output_type": "execute_result"
    }
   ],
   "source": [
    "np.sqrt(81)"
   ]
  },
  {
   "cell_type": "code",
   "execution_count": 32,
   "id": "77cbcf55-ee46-498a-80fa-26dce64273c6",
   "metadata": {},
   "outputs": [
    {
     "data": {
      "text/plain": [
       "700"
      ]
     },
     "execution_count": 32,
     "metadata": {},
     "output_type": "execute_result"
    }
   ],
   "source": [
    "n.max()"
   ]
  },
  {
   "cell_type": "code",
   "execution_count": 33,
   "id": "707adc03-bc51-44ff-bba9-cd4ce7eaa9d1",
   "metadata": {},
   "outputs": [
    {
     "data": {
      "text/plain": [
       "array([[  2,   4,   6,   2],\n",
       "       [ 24,  34,  56,  32],\n",
       "       [100, 400, 500, 700]])"
      ]
     },
     "execution_count": 33,
     "metadata": {},
     "output_type": "execute_result"
    }
   ],
   "source": [
    "n"
   ]
  },
  {
   "cell_type": "code",
   "execution_count": 35,
   "id": "faadb581-8a66-42c0-b52a-a170919dae2a",
   "metadata": {},
   "outputs": [
    {
     "data": {
      "text/plain": [
       "11"
      ]
     },
     "execution_count": 35,
     "metadata": {},
     "output_type": "execute_result"
    }
   ],
   "source": [
    "n.argmax()"
   ]
  },
  {
   "cell_type": "code",
   "execution_count": 36,
   "id": "d455ea90-65c0-486c-b554-2a5a6817d6a0",
   "metadata": {},
   "outputs": [
    {
     "data": {
      "text/plain": [
       "0"
      ]
     },
     "execution_count": 36,
     "metadata": {},
     "output_type": "execute_result"
    }
   ],
   "source": [
    "n.argmin()"
   ]
  },
  {
   "cell_type": "code",
   "execution_count": 37,
   "id": "7232f3c2-ba92-4059-8ec3-103f53d13d38",
   "metadata": {},
   "outputs": [
    {
     "data": {
      "text/plain": [
       "array([[  1.,   2.,   3.,   1.],\n",
       "       [ 12.,  17.,  28.,  16.],\n",
       "       [ 50., 200., 250., 350.]])"
      ]
     },
     "execution_count": 37,
     "metadata": {},
     "output_type": "execute_result"
    }
   ],
   "source": [
    "n/2"
   ]
  },
  {
   "cell_type": "code",
   "execution_count": 38,
   "id": "569108fa-1145-4340-adfb-565d4f9ef137",
   "metadata": {},
   "outputs": [
    {
     "data": {
      "text/plain": [
       "array([[  1.,   2.,   3.,   1.],\n",
       "       [ 12.,  17.,  28.,  16.],\n",
       "       [ 50., 200., 250., 350.]])"
      ]
     },
     "execution_count": 38,
     "metadata": {},
     "output_type": "execute_result"
    }
   ],
   "source": [
    "n/2"
   ]
  },
  {
   "cell_type": "code",
   "execution_count": 39,
   "id": "7d10f64c-9aeb-469c-b520-ea65ea3dbf44",
   "metadata": {},
   "outputs": [
    {
     "data": {
      "text/plain": [
       "array([[  0.5,   1. ,   1.5,   0.5],\n",
       "       [  6. ,   8.5,  14. ,   8. ],\n",
       "       [ 25. , 100. , 125. , 175. ]])"
      ]
     },
     "execution_count": 39,
     "metadata": {},
     "output_type": "execute_result"
    }
   ],
   "source": [
    "n/4"
   ]
  },
  {
   "cell_type": "markdown",
   "id": "56a2f44f-9a22-4556-b82f-094dec71dd09",
   "metadata": {},
   "source": []
  },
  {
   "cell_type": "markdown",
   "id": "cf5ea3e9-3fe3-43ea-a211-de26a831c1e9",
   "metadata": {},
   "source": [
    "# Random"
   ]
  },
  {
   "cell_type": "code",
   "execution_count": 40,
   "id": "7144996a-1bca-406f-9e20-5a6a3bfc6f88",
   "metadata": {},
   "outputs": [
    {
     "data": {
      "text/plain": [
       "array([[0.15895783, 0.11303952, 0.24691506],\n",
       "       [0.50112896, 0.97024411, 0.30429556]])"
      ]
     },
     "execution_count": 40,
     "metadata": {},
     "output_type": "execute_result"
    }
   ],
   "source": [
    "np.random.rand(2,3)"
   ]
  },
  {
   "cell_type": "code",
   "execution_count": 42,
   "id": "acb7dc19-e4c1-4b4a-9c18-d1932851e662",
   "metadata": {},
   "outputs": [
    {
     "data": {
      "text/plain": [
       "array([[ 0.23824737,  0.80517078],\n",
       "       [-0.32082586, -0.1072074 ]])"
      ]
     },
     "execution_count": 42,
     "metadata": {},
     "output_type": "execute_result"
    }
   ],
   "source": [
    "np.random.randn(2,2)"
   ]
  },
  {
   "cell_type": "code",
   "execution_count": 48,
   "id": "3f349bbf-56b9-4a5b-aa76-8632125ea67d",
   "metadata": {},
   "outputs": [],
   "source": [
    "s=np.random.randint(9,90,12).reshape(4,3)"
   ]
  },
  {
   "cell_type": "code",
   "execution_count": 49,
   "id": "cb422302-922e-434b-a556-29179d31bb9e",
   "metadata": {},
   "outputs": [
    {
     "data": {
      "text/plain": [
       "array([[77, 65, 15],\n",
       "       [12, 83,  9],\n",
       "       [16, 26, 72],\n",
       "       [87, 33, 33]])"
      ]
     },
     "execution_count": 49,
     "metadata": {},
     "output_type": "execute_result"
    }
   ],
   "source": [
    "s"
   ]
  },
  {
   "cell_type": "code",
   "execution_count": 51,
   "id": "46808fab-e33e-4a9a-92a5-38f059cd03ba",
   "metadata": {},
   "outputs": [
    {
     "data": {
      "text/plain": [
       "528"
      ]
     },
     "execution_count": 51,
     "metadata": {},
     "output_type": "execute_result"
    }
   ],
   "source": [
    "s.sum()"
   ]
  },
  {
   "cell_type": "code",
   "execution_count": 52,
   "id": "71a8689c-da5a-4801-aadb-9c6d9180badf",
   "metadata": {},
   "outputs": [
    {
     "data": {
      "text/plain": [
       "array([157, 104, 114, 153])"
      ]
     },
     "execution_count": 52,
     "metadata": {},
     "output_type": "execute_result"
    }
   ],
   "source": [
    "s.sum(axis=1)"
   ]
  },
  {
   "cell_type": "code",
   "execution_count": 53,
   "id": "35b6e937-b67e-47c9-bbe4-116cc1fa4fa4",
   "metadata": {},
   "outputs": [
    {
     "data": {
      "text/plain": [
       "array([192, 207, 129])"
      ]
     },
     "execution_count": 53,
     "metadata": {},
     "output_type": "execute_result"
    }
   ],
   "source": [
    "s.sum(axis=0)"
   ]
  },
  {
   "cell_type": "markdown",
   "id": "193bd6d1-2286-41bc-a334-f3568b4ed6af",
   "metadata": {},
   "source": [
    "# 3d"
   ]
  },
  {
   "cell_type": "code",
   "execution_count": 54,
   "id": "8a3f6df5-8b62-47d1-9a00-4d19e98641d5",
   "metadata": {},
   "outputs": [],
   "source": [
    "d=np.array([[[4,40],[5,50],[6,60]],[[7,70],[8,80],[9,90]],[[5,55],[4,44],[6,66]]]) "
   ]
  },
  {
   "cell_type": "code",
   "execution_count": 55,
   "id": "99348a5e-19ee-4469-b945-3de37fd542bc",
   "metadata": {},
   "outputs": [
    {
     "data": {
      "text/plain": [
       "(3, 3, 2)"
      ]
     },
     "execution_count": 55,
     "metadata": {},
     "output_type": "execute_result"
    }
   ],
   "source": [
    "d.shape"
   ]
  },
  {
   "cell_type": "markdown",
   "id": "fcf3b2be-b105-48d8-aa4c-53b67eb847cd",
   "metadata": {},
   "source": [
    "# NAN- not a number"
   ]
  },
  {
   "cell_type": "code",
   "execution_count": 56,
   "id": "eace3f6b-771f-43d8-9792-3e0c6f83990a",
   "metadata": {},
   "outputs": [],
   "source": [
    "x = np.array([12,56,np.nan,66,100,np.nan])"
   ]
  },
  {
   "cell_type": "code",
   "execution_count": 57,
   "id": "5aa08ad2-f396-4ab6-baf0-a211ceda131f",
   "metadata": {},
   "outputs": [
    {
     "data": {
      "text/plain": [
       "array([ 12.,  56.,  nan,  66., 100.,  nan])"
      ]
     },
     "execution_count": 57,
     "metadata": {},
     "output_type": "execute_result"
    }
   ],
   "source": [
    "x"
   ]
  },
  {
   "cell_type": "code",
   "execution_count": 58,
   "id": "39f81455-a64f-4316-9ace-9e2c9222a981",
   "metadata": {},
   "outputs": [
    {
     "data": {
      "text/plain": [
       "dtype('float64')"
      ]
     },
     "execution_count": 58,
     "metadata": {},
     "output_type": "execute_result"
    }
   ],
   "source": [
    "x.dtype"
   ]
  }
 ],
 "metadata": {
  "kernelspec": {
   "display_name": "Python 3 (ipykernel)",
   "language": "python",
   "name": "python3"
  },
  "language_info": {
   "codemirror_mode": {
    "name": "ipython",
    "version": 3
   },
   "file_extension": ".py",
   "mimetype": "text/x-python",
   "name": "python",
   "nbconvert_exporter": "python",
   "pygments_lexer": "ipython3",
   "version": "3.9.12"
  }
 },
 "nbformat": 4,
 "nbformat_minor": 5
}
