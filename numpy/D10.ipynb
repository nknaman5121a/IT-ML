{
 "cells": [
  {
   "cell_type": "code",
   "execution_count": null,
   "id": "95342ea4-4b35-4ff6-acc4-9cb2d714eda3",
   "metadata": {},
   "outputs": [],
   "source": []
  }
 ],
 "metadata": {
  "kernelspec": {
   "display_name": "Python 3 (ipykernel)",
   "language": "python",
   "name": "python3"
  },
  "language_info": {
   "codemirror_mode": {
    "name": "ipython",
    "version": 3
   },
   "file_extension": ".py",
   "mimetype": "text/x-python",
   "name": "python",
   "nbconvert_exporter": "python",
   "pygments_lexer": "ipython3",
   "version": "3.9.12"
  },
  "vscode": {
   "interpreter": {
    "hash": "71860fcde2b9998393809fd8506a80669836f6edfdc2fd3670c61329f3eacc4e"
   }
  }
 },
 "nbformat": 4,
 "nbformat_minor": 5
}
