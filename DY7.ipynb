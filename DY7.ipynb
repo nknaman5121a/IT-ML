{
 "cells": [
  {
   "cell_type": "code",
   "execution_count": 1,
   "id": "812bc76a-7490-4f5d-b7b7-8aa776cc94ee",
   "metadata": {},
   "outputs": [
    {
     "data": {
      "text/plain": [
       "5"
      ]
     },
     "execution_count": 1,
     "metadata": {},
     "output_type": "execute_result"
    }
   ],
   "source": [
    "3+2"
   ]
  },
  {
   "cell_type": "markdown",
   "id": "59d9abf9-9364-4ae4-947c-5507069d5e9d",
   "metadata": {},
   "source": [
    "1st Heading"
   ]
  },
  {
   "cell_type": "markdown",
   "id": "70a7ba95-c5fd-4998-a376-84072fbdb532",
   "metadata": {},
   "source": [
    "# 1st HEading"
   ]
  },
  {
   "cell_type": "markdown",
   "id": "d4fe87de-604d-4817-8dca-ce69ce286f7e",
   "metadata": {},
   "source": [
    "#2nd Heading"
   ]
  },
  {
   "cell_type": "markdown",
   "id": "365dd49b-6a89-43da-a0c2-4555d1ec8705",
   "metadata": {},
   "source": [
    "* this is first point"
   ]
  },
  {
   "cell_type": "code",
   "execution_count": 2,
   "id": "9818ef07-a949-4d9e-b7ee-3d689e16b066",
   "metadata": {},
   "outputs": [],
   "source": [
    "import os"
   ]
  },
  {
   "cell_type": "code",
   "execution_count": 3,
   "id": "0952fc51-9fb5-4fd8-a3a3-ab121c094d36",
   "metadata": {},
   "outputs": [
    {
     "data": {
      "text/plain": [
       "'C:\\\\Users\\\\91810\\\\Documents\\\\python ML'"
      ]
     },
     "execution_count": 3,
     "metadata": {},
     "output_type": "execute_result"
    }
   ],
   "source": [
    "os.getcwd()"
   ]
  },
  {
   "cell_type": "code",
   "execution_count": 4,
   "id": "f4474d29-f2b6-473c-97de-537904747d9e",
   "metadata": {},
   "outputs": [
    {
     "ename": "FileNotFoundError",
     "evalue": "[WinError 2] The system cannot find the file specified: 'C:\\\\Users\\\\91810\\\\Documents\\\\IT pyh'",
     "output_type": "error",
     "traceback": [
      "\u001b[1;31m---------------------------------------------------------------------------\u001b[0m",
      "\u001b[1;31mFileNotFoundError\u001b[0m                         Traceback (most recent call last)",
      "Input \u001b[1;32mIn [4]\u001b[0m, in \u001b[0;36m<cell line: 1>\u001b[1;34m()\u001b[0m\n\u001b[1;32m----> 1\u001b[0m \u001b[43mos\u001b[49m\u001b[38;5;241;43m.\u001b[39;49m\u001b[43mchdir\u001b[49m\u001b[43m(\u001b[49m\u001b[38;5;124;43m'\u001b[39;49m\u001b[38;5;124;43mC:\u001b[39;49m\u001b[38;5;130;43;01m\\\\\u001b[39;49;00m\u001b[38;5;124;43mUsers\u001b[39;49m\u001b[38;5;130;43;01m\\\\\u001b[39;49;00m\u001b[38;5;124;43m91810\u001b[39;49m\u001b[38;5;130;43;01m\\\\\u001b[39;49;00m\u001b[38;5;124;43mDocuments\u001b[39;49m\u001b[38;5;130;43;01m\\\\\u001b[39;49;00m\u001b[38;5;124;43mIT pyh\u001b[39;49m\u001b[38;5;124;43m'\u001b[39;49m\u001b[43m)\u001b[49m\n",
      "\u001b[1;31mFileNotFoundError\u001b[0m: [WinError 2] The system cannot find the file specified: 'C:\\\\Users\\\\91810\\\\Documents\\\\IT pyh'"
     ]
    }
   ],
   "source": [
    "os.chdir('C:\\\\Users\\\\91810\\\\Documents\\\\IT pyh')"
   ]
  },
  {
   "cell_type": "code",
   "execution_count": 5,
   "id": "b72e591b-4d2c-402b-bd7f-6513f10c1c39",
   "metadata": {},
   "outputs": [],
   "source": [
    "os.chdir('D:\\\\IT pyh')"
   ]
  },
  {
   "cell_type": "code",
   "execution_count": 6,
   "id": "9e914cfe-6e85-410e-8733-a31936de0c12",
   "metadata": {},
   "outputs": [
    {
     "data": {
      "text/plain": [
       "'D:\\\\IT pyh'"
      ]
     },
     "execution_count": 6,
     "metadata": {},
     "output_type": "execute_result"
    }
   ],
   "source": [
    "os.getcwd()"
   ]
  },
  {
   "cell_type": "code",
   "execution_count": 7,
   "id": "17320572-ce30-440b-ab62-f2bcc1c7f077",
   "metadata": {},
   "outputs": [
    {
     "data": {
      "text/plain": [
       "['D2.py',\n",
       " 'D4.py',\n",
       " 'day2.txt',\n",
       " 'day3.txt',\n",
       " 'idlefile.py',\n",
       " 'image.py',\n",
       " 'it all.txt',\n",
       " 'test2.py',\n",
       " 'test3.py',\n",
       " 'test4.py',\n",
       " 'testpy.py']"
      ]
     },
     "execution_count": 7,
     "metadata": {},
     "output_type": "execute_result"
    }
   ],
   "source": [
    "os.listdir('D:\\\\IT pyh')"
   ]
  },
  {
   "cell_type": "code",
   "execution_count": 8,
   "id": "36219bba-3c67-4b41-abd7-fd728eff48ee",
   "metadata": {},
   "outputs": [],
   "source": [
    "# to make the folder \n",
    "os.mkdir('Empty_folder')"
   ]
  },
  {
   "cell_type": "code",
   "execution_count": 9,
   "id": "dcd3ac08-beaf-4359-91c7-f397d729a02b",
   "metadata": {},
   "outputs": [
    {
     "data": {
      "text/plain": [
       "['D2.py',\n",
       " 'D4.py',\n",
       " 'day2.txt',\n",
       " 'day3.txt',\n",
       " 'Empty_folder',\n",
       " 'idlefile.py',\n",
       " 'image.py',\n",
       " 'it all.txt',\n",
       " 'test2.py',\n",
       " 'test3.py',\n",
       " 'test4.py',\n",
       " 'testpy.py']"
      ]
     },
     "execution_count": 9,
     "metadata": {},
     "output_type": "execute_result"
    }
   ],
   "source": [
    "os.listdir('D:\\\\IT pyh')"
   ]
  },
  {
   "cell_type": "code",
   "execution_count": 10,
   "id": "3110b1f0-eee3-480d-b8dc-9aafdfb76e27",
   "metadata": {},
   "outputs": [],
   "source": [
    "# to remove a folder \n",
    "os.rmdir('Empty_folder')"
   ]
  },
  {
   "cell_type": "code",
   "execution_count": 11,
   "id": "d011c304-a75e-44ea-a222-8c18e5128016",
   "metadata": {},
   "outputs": [
    {
     "data": {
      "text/plain": [
       "['D2.py',\n",
       " 'D4.py',\n",
       " 'day2.txt',\n",
       " 'day3.txt',\n",
       " 'idlefile.py',\n",
       " 'image.py',\n",
       " 'it all.txt',\n",
       " 'test2.py',\n",
       " 'test3.py',\n",
       " 'test4.py',\n",
       " 'testpy.py']"
      ]
     },
     "execution_count": 11,
     "metadata": {},
     "output_type": "execute_result"
    }
   ],
   "source": [
    "# to open the folder list \n",
    "os.listdir('D:\\\\IT pyh')"
   ]
  },
  {
   "cell_type": "markdown",
   "id": "5bf2d698-e639-4c97-9f57-115a0f68bfea",
   "metadata": {},
   "source": [
    "# Random"
   ]
  },
  {
   "cell_type": "code",
   "execution_count": 12,
   "id": "88507eee-1729-43d9-bc51-b28647dec74f",
   "metadata": {},
   "outputs": [],
   "source": [
    "import random"
   ]
  },
  {
   "cell_type": "code",
   "execution_count": 13,
   "id": "0c97ccde-f566-46fc-aebf-22a10f742006",
   "metadata": {},
   "outputs": [
    {
     "name": "stdout",
     "output_type": "stream",
     "text": [
      "0.6344096784252239\n"
     ]
    }
   ],
   "source": [
    "val = random.random()\n",
    "print(val)"
   ]
  },
  {
   "cell_type": "code",
   "execution_count": 29,
   "id": "131a0ef6-d505-4f8b-9082-f71e5d5d9348",
   "metadata": {},
   "outputs": [
    {
     "name": "stdout",
     "output_type": "stream",
     "text": [
      "8\n"
     ]
    }
   ],
   "source": [
    "val2 = random.randint(1,10)\n",
    "print(val2)"
   ]
  },
  {
   "cell_type": "code",
   "execution_count": 56,
   "id": "c4d179ef-4368-45c5-b3b5-760ee5c93d5a",
   "metadata": {},
   "outputs": [
    {
     "name": "stdout",
     "output_type": "stream",
     "text": [
      "['hayy', 'howdy']\n"
     ]
    }
   ],
   "source": [
    "m = ['hi','hello','hayy','howdy']\n",
    "val = random.choices(m,k=2)\n",
    "print(val)"
   ]
  },
  {
   "cell_type": "code",
   "execution_count": 58,
   "id": "f2c68f83-89a3-4c84-a6c5-1d2cf3027698",
   "metadata": {},
   "outputs": [
    {
     "name": "stdout",
     "output_type": "stream",
     "text": [
      "['hi', 'howdy', 'hello', 'hayy']\n"
     ]
    }
   ],
   "source": [
    "#shuffle\n",
    "random.shuffle(m)\n",
    "print(m)"
   ]
  },
  {
   "cell_type": "code",
   "execution_count": null,
   "id": "395ab12b-0f8c-49d3-90ae-2048bed33474",
   "metadata": {},
   "outputs": [],
   "source": []
  }
 ],
 "metadata": {
  "kernelspec": {
   "display_name": "Python 3 (ipykernel)",
   "language": "python",
   "name": "python3"
  },
  "language_info": {
   "codemirror_mode": {
    "name": "ipython",
    "version": 3
   },
   "file_extension": ".py",
   "mimetype": "text/x-python",
   "name": "python",
   "nbconvert_exporter": "python",
   "pygments_lexer": "ipython3",
   "version": "3.9.12"
  }
 },
 "nbformat": 4,
 "nbformat_minor": 5
}
